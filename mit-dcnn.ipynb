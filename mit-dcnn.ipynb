{
 "cells": [
  {
   "cell_type": "markdown",
   "id": "42bd616f-633c-478a-86dc-6fd9edf999e0",
   "metadata": {},
   "source": [
    "Based on research by [MIT](https://www.science.org/doi/10.1126/scitranslmed.abb3652)"
   ]
  },
  {
   "cell_type": "code",
   "execution_count": 1,
   "id": "903babe4-d024-4996-8607-20286301bfb2",
   "metadata": {},
   "outputs": [
    {
     "name": "stdout",
     "output_type": "stream",
     "text": [
      "Requirement already satisfied: scipy in ./myenv/lib/python3.11/site-packages (1.11.4)\n",
      "Requirement already satisfied: numpy<1.28.0,>=1.21.6 in ./myenv/lib/python3.11/site-packages (from scipy) (1.24.2)\n"
     ]
    }
   ],
   "source": [
    "!pip install scipy"
   ]
  },
  {
   "cell_type": "code",
   "execution_count": 2,
   "id": "3ebd7ede-9336-4118-92ec-bfbd5c877182",
   "metadata": {},
   "outputs": [],
   "source": [
    "import tensorflow as tf\n",
    "from tensorflow.keras.preprocessing.image import ImageDataGenerator\n",
    "from tensorflow.keras.applications import VGG16\n",
    "from tensorflow.keras.layers import Input, Conv2D, MaxPooling2D, Flatten, Dense, Dropout\n",
    "from tensorflow.keras.models import Model\n",
    "import pathlib\n",
    "import scipy"
   ]
  },
  {
   "cell_type": "code",
   "execution_count": 3,
   "id": "da054518-91d3-42ea-a030-3b0a06adf346",
   "metadata": {},
   "outputs": [
    {
     "name": "stdout",
     "output_type": "stream",
     "text": [
      "data/isic/train\n",
      "data/isic/test\n"
     ]
    }
   ],
   "source": [
    "path_to_training_dataset = \"data/isic/train/\"\n",
    "data_dir_train = pathlib.Path(path_to_training_dataset)\n",
    "print(data_dir_train)\n",
    "path_to_test_dataset = \"data/isic/test/\"\n",
    "data_dir_test = pathlib.Path(path_to_test_dataset)\n",
    "print(data_dir_test)"
   ]
  },
  {
   "cell_type": "code",
   "execution_count": 4,
   "id": "ce31cff0-03a4-499a-bc0f-fe4ed8cd198a",
   "metadata": {},
   "outputs": [
    {
     "name": "stdout",
     "output_type": "stream",
     "text": [
      "Found 1348 images belonging to 9 classes.\n",
      "Found 44 images belonging to 9 classes.\n"
     ]
    }
   ],
   "source": [
    "# TODO: are these image count correct?\n",
    "\n",
    "train_datagen = ImageDataGenerator(rescale=1./255, validation_split=0.4) # Splitting 20% for validation\n",
    "\n",
    "train_generator = train_datagen.flow_from_directory(\n",
    "    data_dir_train,\n",
    "    target_size=(224, 224),\n",
    "    batch_size=32,\n",
    "    class_mode='categorical',\n",
    "    subset='training')\n",
    "\n",
    "validation_generator = train_datagen.flow_from_directory(\n",
    "    data_dir_test,\n",
    "    target_size=(224, 224),\n",
    "    batch_size=32,\n",
    "    class_mode='categorical',\n",
    "    subset='validation')"
   ]
  },
  {
   "cell_type": "code",
   "execution_count": 6,
   "id": "15c7eac6-848c-4416-8a9b-1e7dc23d39a8",
   "metadata": {},
   "outputs": [
    {
     "name": "stdout",
     "output_type": "stream",
     "text": [
      "Epoch 1/10\n",
      "43/43 [==============================] - 14s 303ms/step - loss: 2.6209 - accuracy: 0.1721 - val_loss: 2.1962 - val_accuracy: 0.1364\n",
      "Epoch 2/10\n",
      "43/43 [==============================] - 11s 253ms/step - loss: 2.2114 - accuracy: 0.1818 - val_loss: 2.2440 - val_accuracy: 0.0909\n",
      "Epoch 3/10\n",
      "43/43 [==============================] - 11s 253ms/step - loss: 2.0616 - accuracy: 0.2151 - val_loss: 3.0426 - val_accuracy: 0.0909\n",
      "Epoch 4/10\n",
      "43/43 [==============================] - 11s 251ms/step - loss: 1.9536 - accuracy: 0.3027 - val_loss: 3.6725 - val_accuracy: 0.1136\n",
      "Epoch 5/10\n",
      "43/43 [==============================] - 11s 251ms/step - loss: 1.7944 - accuracy: 0.3880 - val_loss: 3.5708 - val_accuracy: 0.2273\n",
      "Epoch 6/10\n",
      "43/43 [==============================] - 11s 252ms/step - loss: 1.6902 - accuracy: 0.4228 - val_loss: 3.6010 - val_accuracy: 0.2727\n",
      "Epoch 7/10\n",
      "43/43 [==============================] - 11s 251ms/step - loss: 1.5852 - accuracy: 0.4614 - val_loss: 4.2112 - val_accuracy: 0.2727\n",
      "Epoch 8/10\n",
      "43/43 [==============================] - 11s 252ms/step - loss: 1.4998 - accuracy: 0.4978 - val_loss: 5.5035 - val_accuracy: 0.2727\n",
      "Epoch 9/10\n",
      "43/43 [==============================] - 11s 250ms/step - loss: 1.6596 - accuracy: 0.5089 - val_loss: 4.0803 - val_accuracy: 0.2955\n",
      "Epoch 10/10\n",
      "43/43 [==============================] - 11s 248ms/step - loss: 1.6011 - accuracy: 0.4674 - val_loss: 4.4648 - val_accuracy: 0.2955\n"
     ]
    },
    {
     "data": {
      "text/plain": [
       "<keras.src.callbacks.History at 0x29304c710>"
      ]
     },
     "execution_count": 6,
     "metadata": {},
     "output_type": "execute_result"
    }
   ],
   "source": [
    "# TODO: experiment with increasing epochs. Graph accuracy and loss\n",
    "\n",
    "# Baseline DCNN Model\n",
    "def build_baseline_model():\n",
    "    inputs = Input(shape=(224, 224, 3))\n",
    "    x = Conv2D(32, (3, 3), activation='relu')(inputs)\n",
    "    x = MaxPooling2D(pool_size=(2, 2))(x)\n",
    "    x = Conv2D(64, (3, 3), activation='relu')(x)\n",
    "    x = MaxPooling2D(pool_size=(2, 2))(x)\n",
    "    x = Conv2D(128, (3, 3), activation='relu')(x)\n",
    "    x = MaxPooling2D(pool_size=(2, 2))(x)\n",
    "    x = Flatten()(x)\n",
    "    x = Dense(128, activation='relu')(x)\n",
    "    x = Dropout(0.5)(x)\n",
    "    # outputs = Dense(6, activation='softmax')(x) # Assuming 6 classes\n",
    "    outputs = Dense(9, activation='softmax')(x) # Adjusted to 9 classes\n",
    "    model = Model(inputs, outputs)\n",
    "    model.compile(optimizer='adam', loss='categorical_crossentropy', metrics=['accuracy'])\n",
    "    return model\n",
    "\n",
    "baseline_model = build_baseline_model()\n",
    "baseline_model.fit(train_generator, validation_data=validation_generator, epochs=10)"
   ]
  },
  {
   "cell_type": "code",
   "execution_count": 8,
   "id": "c24703c3-9513-438b-85a8-e9aaca7561d8",
   "metadata": {},
   "outputs": [
    {
     "name": "stdout",
     "output_type": "stream",
     "text": [
      "Epoch 1/10\n",
      "43/43 [==============================] - 14s 312ms/step - loss: 12.4844 - accuracy: 0.1736 - val_loss: 9.5742 - val_accuracy: 0.1364\n",
      "Epoch 2/10\n",
      "43/43 [==============================] - 11s 265ms/step - loss: 9.6305 - accuracy: 0.2151 - val_loss: 8.5066 - val_accuracy: 0.1364\n",
      "Epoch 3/10\n",
      "43/43 [==============================] - 11s 263ms/step - loss: 7.7775 - accuracy: 0.2263 - val_loss: 5.7745 - val_accuracy: 0.1364\n",
      "Epoch 4/10\n",
      "43/43 [==============================] - 12s 266ms/step - loss: 6.0539 - accuracy: 0.2930 - val_loss: 5.4103 - val_accuracy: 0.1364\n",
      "Epoch 5/10\n",
      "43/43 [==============================] - 11s 262ms/step - loss: 4.5032 - accuracy: 0.3242 - val_loss: 4.9361 - val_accuracy: 0.1364\n",
      "Epoch 6/10\n",
      "43/43 [==============================] - 11s 262ms/step - loss: 3.6569 - accuracy: 0.3227 - val_loss: 4.2879 - val_accuracy: 0.1364\n",
      "Epoch 7/10\n",
      "43/43 [==============================] - 11s 265ms/step - loss: 3.4217 - accuracy: 0.3516 - val_loss: 4.2382 - val_accuracy: 0.1591\n",
      "Epoch 8/10\n",
      "43/43 [==============================] - 11s 263ms/step - loss: 2.9880 - accuracy: 0.3642 - val_loss: 3.8935 - val_accuracy: 0.1818\n",
      "Epoch 9/10\n",
      "43/43 [==============================] - 11s 261ms/step - loss: 2.8780 - accuracy: 0.3820 - val_loss: 3.8470 - val_accuracy: 0.1591\n",
      "Epoch 10/10\n",
      "43/43 [==============================] - 12s 265ms/step - loss: 2.4683 - accuracy: 0.4206 - val_loss: 4.2643 - val_accuracy: 0.1364\n"
     ]
    },
    {
     "data": {
      "text/plain": [
       "<keras.src.callbacks.History at 0x2f14eedd0>"
      ]
     },
     "execution_count": 8,
     "metadata": {},
     "output_type": "execute_result"
    }
   ],
   "source": [
    "# TODO: experiment with increasing epochs. Graph accuracy and loss\n",
    "\n",
    "# Transfer Learning with VGG16\n",
    "def build_vgg16_transfer_model():\n",
    "    base_model = VGG16(weights='imagenet', include_top=False, input_shape=(224, 224, 3))\n",
    "    base_model.trainable = False  # Freeze the base model\n",
    "    inputs = Input(shape=(224, 224, 3))\n",
    "    x = base_model(inputs, training=False)\n",
    "    x = Flatten()(x)\n",
    "    x = Dense(128, activation='relu')(x)\n",
    "    x = Dropout(0.5)(x)\n",
    "    # outputs = Dense(6, activation='softmax')(x) # Assuming 6 classes\n",
    "    outputs = Dense(9, activation='softmax')(x) # Adjusted to 9 classes\n",
    "    model = Model(inputs, outputs)\n",
    "    model.compile(optimizer='adam', loss='categorical_crossentropy', metrics=['accuracy'])\n",
    "    return model\n",
    "\n",
    "vgg16_model = build_vgg16_transfer_model()\n",
    "vgg16_model.fit(train_generator, validation_data=validation_generator, epochs=10)"
   ]
  },
  {
   "cell_type": "code",
   "execution_count": null,
   "id": "027938aa-4238-47bd-97f8-5aba9a348abd",
   "metadata": {},
   "outputs": [],
   "source": []
  }
 ],
 "metadata": {
  "kernelspec": {
   "display_name": "Python 3 (ipykernel)",
   "language": "python",
   "name": "python3"
  },
  "language_info": {
   "codemirror_mode": {
    "name": "ipython",
    "version": 3
   },
   "file_extension": ".py",
   "mimetype": "text/x-python",
   "name": "python",
   "nbconvert_exporter": "python",
   "pygments_lexer": "ipython3",
   "version": "3.11.6"
  }
 },
 "nbformat": 4,
 "nbformat_minor": 5
}
